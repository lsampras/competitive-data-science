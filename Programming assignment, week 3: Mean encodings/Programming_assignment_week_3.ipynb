{
  "nbformat": 4,
  "nbformat_minor": 0,
  "metadata": {
    "colab": {
      "name": "Programming_assignment_week_3.ipynb",
      "version": "0.3.2",
      "provenance": [],
      "toc_visible": true,
      "include_colab_link": true
    },
    "language_info": {
      "codemirror_mode": {
        "name": "ipython",
        "version": 3
      },
      "file_extension": ".py",
      "mimetype": "text/x-python",
      "name": "python",
      "nbconvert_exporter": "python",
      "pygments_lexer": "ipython3",
      "version": "3.6.0"
    },
    "kernelspec": {
      "name": "python3",
      "display_name": "Python 3"
    },
    "accelerator": "GPU"
  },
  "cells": [
    {
      "cell_type": "markdown",
      "metadata": {
        "id": "view-in-github",
        "colab_type": "text"
      },
      "source": [
        "<a href=\"https://colab.research.google.com/github/lsampras/competitive-data-science/blob/master/Programming%20assignment%2C%20week%203%3A%20Mean%20encodings/Programming_assignment_week_3.ipynb\" target=\"_parent\"><img src=\"https://colab.research.google.com/assets/colab-badge.svg\" alt=\"Open In Colab\"/></a>"
      ]
    },
    {
      "cell_type": "markdown",
      "metadata": {
        "id": "Q3Q5Z6nXipEu",
        "colab_type": "text"
      },
      "source": [
        "Version 1.1.0"
      ]
    },
    {
      "cell_type": "markdown",
      "metadata": {
        "id": "IqgD10yPipEx",
        "colab_type": "text"
      },
      "source": [
        "# Mean encodings"
      ]
    },
    {
      "cell_type": "markdown",
      "metadata": {
        "id": "T3T6iLysipEz",
        "colab_type": "text"
      },
      "source": [
        "In this programming assignment you will be working with `1C` dataset from the final competition. You are asked to encode `item_id` in 4 different ways:\n",
        "\n",
        "    1) Via KFold scheme;  \n",
        "    2) Via Leave-one-out scheme;\n",
        "    3) Via smoothing scheme;\n",
        "    4) Via expanding mean scheme.\n",
        "\n",
        "**You will need to submit** the correlation coefficient between resulting encoding and target variable up to 4 decimal places.\n",
        "\n",
        "### General tips\n",
        "\n",
        "* Fill NANs in the encoding with `0.3343`.\n",
        "* Some encoding schemes depend on sorting order, so in order to avoid confusion, please use the following code snippet to construct the data frame. This snippet also implements mean encoding without regularization."
      ]
    },
    {
      "cell_type": "code",
      "metadata": {
        "id": "nCC6lLH5johE",
        "colab_type": "code",
        "colab": {}
      },
      "source": [
        "!wget 'https://github.com/lsampras/competitive-data-science/raw/master/Programming%20assignment%2C%20week%203:%20Mean%20encodings/grader.py'"
      ],
      "execution_count": 0,
      "outputs": []
    },
    {
      "cell_type": "code",
      "metadata": {
        "id": "N_Sv-5AcipE0",
        "colab_type": "code",
        "colab": {}
      },
      "source": [
        "import pandas as pd\n",
        "import numpy as np\n",
        "from itertools import product\n",
        "from grader import Grader\n",
        "from sklearn.model_selection import KFold"
      ],
      "execution_count": 0,
      "outputs": []
    },
    {
      "cell_type": "markdown",
      "metadata": {
        "id": "kcILNNXaipE7",
        "colab_type": "text"
      },
      "source": [
        "# Read data"
      ]
    },
    {
      "cell_type": "code",
      "metadata": {
        "id": "ZX6UL9RdipE8",
        "colab_type": "code",
        "colab": {}
      },
      "source": [
        "!wget 'https://github.com/lsampras/competitive-data-science/raw/master/readonly/final_project_data/sales_train.csv.gz'\n",
        "sales = pd.read_csv('sales_train.csv.gz')"
      ],
      "execution_count": 0,
      "outputs": []
    },
    {
      "cell_type": "markdown",
      "metadata": {
        "id": "_L1pvrhMipFB",
        "colab_type": "text"
      },
      "source": [
        "# Aggregate data"
      ]
    },
    {
      "cell_type": "markdown",
      "metadata": {
        "id": "65igBTDiipFD",
        "colab_type": "text"
      },
      "source": [
        "Since the competition task is to make a monthly prediction, we need to aggregate the data to montly level before doing any encodings. The following code-cell serves just that purpose."
      ]
    },
    {
      "cell_type": "code",
      "metadata": {
        "id": "r3a6Jk-vipFF",
        "colab_type": "code",
        "colab": {
          "base_uri": "https://localhost:8080/",
          "height": 71
        },
        "outputId": "651b4f86-2711-4ecb-98c1-f32b1113d5e5"
      },
      "source": [
        "index_cols = ['shop_id', 'item_id', 'date_block_num']\n",
        "\n",
        "# For every month we create a grid from all shops/items combinations from that month\n",
        "grid = [] \n",
        "for block_num in sales['date_block_num'].unique():\n",
        "    cur_shops = sales[sales['date_block_num']==block_num]['shop_id'].unique()\n",
        "    cur_items = sales[sales['date_block_num']==block_num]['item_id'].unique()\n",
        "    grid.append(np.array(list(product(*[cur_shops, cur_items, [block_num]])),dtype='int32'))\n",
        "\n",
        "#turn the grid into pandas dataframe\n",
        "grid = pd.DataFrame(np.vstack(grid), columns = index_cols,dtype=np.int32)\n",
        "\n",
        "#get aggregated values for (shop_id, item_id, month)\n",
        "gb = sales.groupby(index_cols,as_index=False).agg({'item_cnt_day':{'target':'sum'}})\n",
        "\n",
        "#fix column names\n",
        "gb.columns = [col[0] if col[-1]=='' else col[-1] for col in gb.columns.values]\n",
        "#join aggregated data to the grid\n",
        "all_data = pd.merge(grid,gb,how='left',on=index_cols).fillna(0)\n",
        "#sort the data\n",
        "all_data.sort_values(['date_block_num','shop_id','item_id'],inplace=True)"
      ],
      "execution_count": 5,
      "outputs": [
        {
          "output_type": "stream",
          "text": [
            "/usr/local/lib/python3.6/dist-packages/pandas/core/groupby/generic.py:1315: FutureWarning: using a dict with renaming is deprecated and will be removed in a future version\n",
            "  return super(DataFrameGroupBy, self).aggregate(arg, *args, **kwargs)\n"
          ],
          "name": "stderr"
        }
      ]
    },
    {
      "cell_type": "markdown",
      "metadata": {
        "id": "MfXKLe5jipFK",
        "colab_type": "text"
      },
      "source": [
        "# Mean encodings without regularization"
      ]
    },
    {
      "cell_type": "markdown",
      "metadata": {
        "id": "lLDExL1kipFL",
        "colab_type": "text"
      },
      "source": [
        "After we did the techinical work, we are ready to actually *mean encode* the desired `item_id` variable. \n",
        "\n",
        "Here are two ways to implement mean encoding features *without* any regularization. You can use this code as a starting point to implement regularized techniques. "
      ]
    },
    {
      "cell_type": "markdown",
      "metadata": {
        "id": "FGKytbafipFN",
        "colab_type": "text"
      },
      "source": [
        "#### Method 1"
      ]
    },
    {
      "cell_type": "code",
      "metadata": {
        "scrolled": true,
        "id": "XAp9QMOWipFO",
        "colab_type": "code",
        "colab": {
          "base_uri": "https://localhost:8080/",
          "height": 34
        },
        "outputId": "22f2938f-733a-4b1e-991f-f802356f4227"
      },
      "source": [
        "# Calculate a mapping: {item_id: target_mean}\n",
        "item_id_target_mean = all_data.groupby('item_id').target.mean()\n",
        "\n",
        "# In our non-regularized case we just *map* the computed means to the `item_id`'s\n",
        "all_data['item_target_enc'] = all_data['item_id'].map(item_id_target_mean)\n",
        "\n",
        "# Fill NaNs\n",
        "all_data['item_target_enc'].fillna(0.3343, inplace=True) \n",
        "\n",
        "# Print correlation\n",
        "encoded_feature = all_data['item_target_enc'].values\n",
        "print(np.corrcoef(all_data['target'].values, encoded_feature)[0][1])"
      ],
      "execution_count": 6,
      "outputs": [
        {
          "output_type": "stream",
          "text": [
            "0.4830386988621699\n"
          ],
          "name": "stdout"
        }
      ]
    },
    {
      "cell_type": "markdown",
      "metadata": {
        "id": "kgXarG4kipFT",
        "colab_type": "text"
      },
      "source": [
        "#### Method 2"
      ]
    },
    {
      "cell_type": "code",
      "metadata": {
        "id": "mO5g2I9vipFV",
        "colab_type": "code",
        "colab": {
          "base_uri": "https://localhost:8080/",
          "height": 34
        },
        "outputId": "17ee1b20-380c-4d95-e495-aa8c7d6ed5c1"
      },
      "source": [
        "'''\n",
        "     Differently to `.target.mean()` function `transform` \n",
        "   will return a dataframe with an index like in `all_data`.\n",
        "   Basically this single line of code is equivalent to the first two lines from of Method 1.\n",
        "'''\n",
        "all_data['item_target_enc'] = all_data.groupby('item_id')['target'].transform('mean')\n",
        "\n",
        "# Fill NaNs\n",
        "all_data['item_target_enc'].fillna(0.3343, inplace=True) \n",
        "\n",
        "# Print correlation\n",
        "encoded_feature = all_data['item_target_enc'].values\n",
        "print(np.corrcoef(all_data['target'].values, encoded_feature)[0][1])"
      ],
      "execution_count": 7,
      "outputs": [
        {
          "output_type": "stream",
          "text": [
            "0.4830386988621699\n"
          ],
          "name": "stdout"
        }
      ]
    },
    {
      "cell_type": "markdown",
      "metadata": {
        "id": "M0vaRf6iipFa",
        "colab_type": "text"
      },
      "source": [
        "See the printed value? It is the correlation coefficient between the target variable and your new encoded feature. You need to **compute correlation coefficient** between the encodings, that you will implement and **submit those to coursera**."
      ]
    },
    {
      "cell_type": "code",
      "metadata": {
        "id": "aRzeJRYVipFb",
        "colab_type": "code",
        "colab": {}
      },
      "source": [
        "grader = Grader()"
      ],
      "execution_count": 0,
      "outputs": []
    },
    {
      "cell_type": "markdown",
      "metadata": {
        "id": "qvLXW_nyipFh",
        "colab_type": "text"
      },
      "source": [
        "# 1. KFold scheme"
      ]
    },
    {
      "cell_type": "markdown",
      "metadata": {
        "id": "RZ0OzovhipFj",
        "colab_type": "text"
      },
      "source": [
        "Explained starting at 41 sec of [Regularization video](https://www.coursera.org/learn/competitive-data-science/lecture/LGYQ2/regularization)."
      ]
    },
    {
      "cell_type": "markdown",
      "metadata": {
        "id": "GRWO5lTMipFk",
        "colab_type": "text"
      },
      "source": [
        "**Now it's your turn to write the code!** \n",
        "\n",
        "You may use 'Regularization' video as a reference for all further tasks.\n",
        "\n",
        "First, implement KFold scheme with five folds. Use KFold(5) from sklearn.model_selection. \n",
        "\n",
        "1. Split your data in 5 folds with `sklearn.model_selection.KFold` with `shuffle=False` argument.\n",
        "2. Iterate through folds: use all but the current fold to calculate mean target for each level `item_id`, and  fill the current fold.\n",
        "\n",
        "    *  See the **Method 1** from the example implementation. In particular learn what `map` and pd.Series.map functions do. They are pretty handy in many situations."
      ]
    },
    {
      "cell_type": "code",
      "metadata": {
        "id": "mN4Rb3SKipFn",
        "colab_type": "code",
        "colab": {}
      },
      "source": [
        "# YOUR CODE GOES HERE\n",
        "y = all_data['target'].values\n",
        "skf = KFold(5)\n",
        "new_data = all_data\n",
        "for train_idx,val_idx in skf.split(all_data,y):\n",
        "    x_tr,x_val =  all_data.iloc[train_idx], all_data.iloc[val_idx]\n",
        "    item_id_target_mean = x_tr.groupby('item_id').target.mean()\n",
        "    x_val['item_target_enc'] = x_val['item_id'].map(item_id_target_mean)\n",
        "    new_data.iloc[val_idx] = x_val\n",
        "    \n",
        "\n",
        "new_data['item_target_enc'].fillna(0.3343, inplace=True) \n",
        "encoded_feature = new_data['item_target_enc'].values\n",
        "# You will need to compute correlation like that\n",
        "corr = np.corrcoef(all_data['target'].values, encoded_feature)[0][1]\n",
        "print(corr)\n",
        "grader.submit_tag('KFold_scheme', corr)"
      ],
      "execution_count": 0,
      "outputs": []
    },
    {
      "cell_type": "markdown",
      "metadata": {
        "id": "WzNKMRHeipFr",
        "colab_type": "text"
      },
      "source": [
        "# 2. Leave-one-out scheme"
      ]
    },
    {
      "cell_type": "markdown",
      "metadata": {
        "collapsed": true,
        "id": "7aOSV5wFipFt",
        "colab_type": "text"
      },
      "source": [
        "Now, implement leave-one-out scheme. Note that if you just simply set the number of folds to the number of samples and run the code from the **KFold scheme**, you will probably wait for a very long time. \n",
        "\n",
        "To implement a faster version, note, that to calculate mean target value using all the objects but one *given object*, you can:\n",
        "\n",
        "1. Calculate sum of the target values using all the objects.\n",
        "2. Then subtract the target of the *given object* and divide the resulting value by `n_objects - 1`. \n",
        "\n",
        "Note that you do not need to perform `1.` for every object. And `2.` can be implemented without any `for` loop.\n",
        "\n",
        "It is the most convenient to use `.transform` function as in **Method 2**."
      ]
    },
    {
      "cell_type": "code",
      "metadata": {
        "id": "FEufML5uipFu",
        "colab_type": "code",
        "colab": {
          "base_uri": "https://localhost:8080/",
          "height": 51
        },
        "outputId": "49ab2305-3895-47ae-baee-237052c82333"
      },
      "source": [
        "# YOUR CODE GOES HERE\n",
        "target_sum = all_data.groupby('item_id')['target'].transform('sum')\n",
        "target_count = all_data.groupby('item_id')['target'].transform('count')\n",
        "all_data['item_target_enc'] = (target_sum - all_data.target.values) / (target_count - 1)\n",
        "encoded_feature = all_data['item_target_enc'].values\n",
        "\n",
        "corr = np.corrcoef(all_data['target'].values, encoded_feature)[0][1]\n",
        "print(corr)\n",
        "grader.submit_tag('Leave-one-out_scheme', corr)"
      ],
      "execution_count": 34,
      "outputs": [
        {
          "output_type": "stream",
          "text": [
            "0.4803848311293002\n",
            "Current answer for task Leave-one-out_scheme is: 0.4803848311293002\n"
          ],
          "name": "stdout"
        }
      ]
    },
    {
      "cell_type": "markdown",
      "metadata": {
        "id": "77mPym4SipFz",
        "colab_type": "text"
      },
      "source": [
        "# 3. Smoothing"
      ]
    },
    {
      "cell_type": "markdown",
      "metadata": {
        "id": "S8POK8PLipF0",
        "colab_type": "text"
      },
      "source": [
        "Explained starting at 4:03 of [Regularization video](https://www.coursera.org/learn/competitive-data-science/lecture/LGYQ2/regularization)."
      ]
    },
    {
      "cell_type": "markdown",
      "metadata": {
        "id": "XD0q8fgNipF1",
        "colab_type": "text"
      },
      "source": [
        "Next, implement smoothing scheme with $\\alpha = 100$. Use the formula from the first slide in the video and $0.3343$ as `globalmean`. Note that `nrows` is the number of objects that belong to a certain category (not the number of rows in the dataset)."
      ]
    },
    {
      "cell_type": "code",
      "metadata": {
        "id": "cn_JRaGdipF3",
        "colab_type": "code",
        "colab": {
          "base_uri": "https://localhost:8080/",
          "height": 51
        },
        "outputId": "2a130429-1818-4eca-a60c-64e0ff9cd410"
      },
      "source": [
        "# YOUR CODE GOES HERE\n",
        "globalmean = 0.3343\n",
        "alpha = 100\n",
        "nrows = all_data.groupby('item_id').target.count()\n",
        "mean = all_data.groupby('item_id').target.mean()\n",
        "\n",
        "#takes previous encoded feature value and regularizes it\n",
        "encoded_feature = all_data['item_id'].map((mean*nrows + alpha*globalmean)/(alpha+nrows))\n",
        "\n",
        "\n",
        "\n",
        "corr = np.corrcoef(all_data['target'].values, encoded_feature)[0][1]\n",
        "print(corr)\n",
        "grader.submit_tag('Smoothing_scheme', corr)"
      ],
      "execution_count": 40,
      "outputs": [
        {
          "output_type": "stream",
          "text": [
            "0.4818198797097264\n",
            "Current answer for task Smoothing_scheme is: 0.4818198797097264\n"
          ],
          "name": "stdout"
        }
      ]
    },
    {
      "cell_type": "markdown",
      "metadata": {
        "id": "Va1rePALipF7",
        "colab_type": "text"
      },
      "source": [
        "# 4. Expanding mean scheme"
      ]
    },
    {
      "cell_type": "markdown",
      "metadata": {
        "id": "OY0xFakTipF8",
        "colab_type": "text"
      },
      "source": [
        "Explained starting at 5:50 of [Regularization video](https://www.coursera.org/learn/competitive-data-science/lecture/LGYQ2/regularization)."
      ]
    },
    {
      "cell_type": "markdown",
      "metadata": {
        "collapsed": true,
        "id": "FcNnmJIVipF-",
        "colab_type": "text"
      },
      "source": [
        "Finally, implement the *expanding mean* scheme. It is basically already implemented for you in the video, but you can challenge yourself and try to implement it yourself. You will need [`cumsum`](https://pandas.pydata.org/pandas-docs/stable/generated/pandas.core.groupby.DataFrameGroupBy.cumsum.html) and [`cumcount`](https://pandas.pydata.org/pandas-docs/stable/generated/pandas.core.groupby.GroupBy.cumcount.html) functions from pandas."
      ]
    },
    {
      "cell_type": "code",
      "metadata": {
        "id": "t0Qp-tuly79G",
        "colab_type": "code",
        "colab": {
          "base_uri": "https://localhost:8080/",
          "height": 51
        },
        "outputId": "6db173ae-560d-4f31-988a-9109801cee21"
      },
      "source": [
        "encoded_feature"
      ],
      "execution_count": 14,
      "outputs": [
        {
          "output_type": "execute_result",
          "data": {
            "text/plain": [
              "array([0.02272727, 0.05691057, 0.14141414, ..., 1.23869347, 0.29617021,\n",
              "       1.08196721])"
            ]
          },
          "metadata": {
            "tags": []
          },
          "execution_count": 14
        }
      ]
    },
    {
      "cell_type": "code",
      "metadata": {
        "id": "lYlvU0iUipF_",
        "colab_type": "code",
        "colab": {
          "base_uri": "https://localhost:8080/",
          "height": 51
        },
        "outputId": "35cce049-2bda-45f2-f728-39488e3b8778"
      },
      "source": [
        "# YOUR CODE GOES HERE\n",
        "# Calculate a mapping: {item_id: target_mean}\n",
        "item_id_target_cumsum = all_data.groupby('item_id').target.cumsum() - all_data.target\n",
        "\n",
        "\n",
        "item_id_target_cumcnt = all_data.groupby('item_id').target.cumcount()\n",
        "all_data['item_target_enc'] = item_id_target_cumsum/item_id_target_cumcnt\n",
        "all_data['item_target_enc'].fillna(0.3343, inplace = True)\n",
        "encoded_feature = all_data['item_target_enc']\n",
        "\n",
        "corr = np.corrcoef(all_data['target'].values, encoded_feature)[0][1]\n",
        "print(corr)\n",
        "grader.submit_tag('Expanding_mean_scheme', corr)"
      ],
      "execution_count": 46,
      "outputs": [
        {
          "output_type": "stream",
          "text": [
            "0.5025245211081697\n",
            "Current answer for task Expanding_mean_scheme is: 0.5025245211081697\n"
          ],
          "name": "stdout"
        }
      ]
    },
    {
      "cell_type": "markdown",
      "metadata": {
        "id": "f9J7NGe1ipGE",
        "colab_type": "text"
      },
      "source": [
        "## Authorization & Submission\n",
        "To submit assignment parts to Cousera platform, please, enter your e-mail and token into variables below. You can generate token on this programming assignment page. Note: Token expires 30 minutes after generation."
      ]
    },
    {
      "cell_type": "code",
      "metadata": {
        "id": "BQvMTqWOipGF",
        "colab_type": "code",
        "colab": {
          "base_uri": "https://localhost:8080/",
          "height": 102
        },
        "outputId": "29f7cfbf-045d-4194-cdf3-27bddb68c395"
      },
      "source": [
        "STUDENT_EMAIL = 'sampraslop995@gmail.com'\n",
        "STUDENT_TOKEN = 'XiICwoX8H9yWYDOn'\n",
        "grader.status()"
      ],
      "execution_count": 47,
      "outputs": [
        {
          "output_type": "stream",
          "text": [
            "You want to submit these numbers:\n",
            "Task KFold_scheme: 0.4164590712798811\n",
            "Task Leave-one-out_scheme: 0.4803848311293002\n",
            "Task Smoothing_scheme: 0.4818198797097264\n",
            "Task Expanding_mean_scheme: 0.5025245211081697\n"
          ],
          "name": "stdout"
        }
      ]
    },
    {
      "cell_type": "code",
      "metadata": {
        "id": "zYZ3gBryipGK",
        "colab_type": "code",
        "colab": {
          "base_uri": "https://localhost:8080/",
          "height": 34
        },
        "outputId": "19ce085a-3c44-4a67-d0b1-af05358b3a74"
      },
      "source": [
        "grader.submit(STUDENT_EMAIL, STUDENT_TOKEN)"
      ],
      "execution_count": 48,
      "outputs": [
        {
          "output_type": "stream",
          "text": [
            "Submitted to Coursera platform. See results on assignment page!\n"
          ],
          "name": "stdout"
        }
      ]
    }
  ]
}